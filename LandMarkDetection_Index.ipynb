{
 "cells": [
  {
   "cell_type": "code",
   "execution_count": 2,
   "id": "e4956fe3",
   "metadata": {},
   "outputs": [],
   "source": [
    "import numpy as np\n",
    "import pandas as pd\n",
    "import keras\n",
    "import cv2\n",
    "from matplotlib import pyplot as plt\n",
    "import os\n",
    "import random\n",
    "from PIL import Image"
   ]
  },
  {
   "cell_type": "code",
   "execution_count": 3,
   "id": "fa03e8ca",
   "metadata": {},
   "outputs": [],
   "source": [
    "samples = 20000\n",
    "df = pd.read_csv(\"train.csv\")\n",
    "df = df.loc[:samples,:]\n",
    "num_classes = len(df[\"landmark_id\"].unique())\n",
    "num_data = len(df)"
   ]
  },
  {
   "cell_type": "code",
   "execution_count": 4,
   "id": "63fedf71",
   "metadata": {},
   "outputs": [
    {
     "data": {
      "text/html": [
       "<div>\n",
       "<style scoped>\n",
       "    .dataframe tbody tr th:only-of-type {\n",
       "        vertical-align: middle;\n",
       "    }\n",
       "\n",
       "    .dataframe tbody tr th {\n",
       "        vertical-align: top;\n",
       "    }\n",
       "\n",
       "    .dataframe thead th {\n",
       "        text-align: right;\n",
       "    }\n",
       "</style>\n",
       "<table border=\"1\" class=\"dataframe\">\n",
       "  <thead>\n",
       "    <tr style=\"text-align: right;\">\n",
       "      <th></th>\n",
       "      <th>id</th>\n",
       "      <th>landmark_id</th>\n",
       "    </tr>\n",
       "  </thead>\n",
       "  <tbody>\n",
       "    <tr>\n",
       "      <th>0</th>\n",
       "      <td>17660ef415d37059</td>\n",
       "      <td>1</td>\n",
       "    </tr>\n",
       "    <tr>\n",
       "      <th>1</th>\n",
       "      <td>92b6290d571448f6</td>\n",
       "      <td>1</td>\n",
       "    </tr>\n",
       "    <tr>\n",
       "      <th>2</th>\n",
       "      <td>cd41bf948edc0340</td>\n",
       "      <td>1</td>\n",
       "    </tr>\n",
       "    <tr>\n",
       "      <th>3</th>\n",
       "      <td>fb09f1e98c6d2f70</td>\n",
       "      <td>1</td>\n",
       "    </tr>\n",
       "    <tr>\n",
       "      <th>4</th>\n",
       "      <td>25c9dfc7ea69838d</td>\n",
       "      <td>7</td>\n",
       "    </tr>\n",
       "  </tbody>\n",
       "</table>\n",
       "</div>"
      ],
      "text/plain": [
       "                 id  landmark_id\n",
       "0  17660ef415d37059            1\n",
       "1  92b6290d571448f6            1\n",
       "2  cd41bf948edc0340            1\n",
       "3  fb09f1e98c6d2f70            1\n",
       "4  25c9dfc7ea69838d            7"
      ]
     },
     "execution_count": 4,
     "metadata": {},
     "output_type": "execute_result"
    }
   ],
   "source": [
    "df.head()"
   ]
  },
  {
   "cell_type": "code",
   "execution_count": 5,
   "id": "f7fe09ba",
   "metadata": {},
   "outputs": [
    {
     "name": "stdout",
     "output_type": "stream",
     "text": [
      "Size of training data: (20001, 2)\n",
      "Number of unique classes: 1020\n"
     ]
    }
   ],
   "source": [
    "print(\"Size of training data:\", df.shape)\n",
    "print(\"Number of unique classes:\", num_classes)"
   ]
  },
  {
   "cell_type": "code",
   "execution_count": 6,
   "id": "abd1dc0e",
   "metadata": {},
   "outputs": [
    {
     "name": "stdout",
     "output_type": "stream",
     "text": [
      "   landmark_id  count\n",
      "0         1924    944\n",
      "1           27    504\n",
      "2          454    254\n",
      "3         1346    244\n",
      "4         1127    201\n",
      "5          870    193\n",
      "6         2185    177\n",
      "7         1101    162\n",
      "8          389    140\n",
      "9          219    139\n",
      "      landmark_id  count\n",
      "1010         1548      2\n",
      "1011         1234      2\n",
      "1012         2118      2\n",
      "1013         1644      2\n",
      "1014         1838      2\n",
      "1015         1449      2\n",
      "1016         2297      2\n",
      "1017         1662      2\n",
      "1018          289      2\n",
      "1019          215      2\n"
     ]
    }
   ],
   "source": [
    "data = pd.DataFrame(df['landmark_id'].value_counts())\n",
    "#index the data frame\n",
    "data.reset_index(inplace=True) \n",
    "data.columns=['landmark_id','count']\n",
    "\n",
    "print(data.head(10))\n",
    "print(data.tail(10))"
   ]
  },
  {
   "cell_type": "code",
   "execution_count": 7,
   "id": "95f8aa64",
   "metadata": {},
   "outputs": [
    {
     "name": "stdout",
     "output_type": "stream",
     "text": [
      "count    1020.000000\n",
      "mean       19.608824\n",
      "std        41.653684\n",
      "min         2.000000\n",
      "25%         5.000000\n",
      "50%         9.000000\n",
      "75%        21.000000\n",
      "max       944.000000\n",
      "Name: count, dtype: float64\n"
     ]
    },
    {
     "data": {
      "text/plain": [
       "Text(0, 0.5, 'Occurences')"
      ]
     },
     "execution_count": 7,
     "metadata": {},
     "output_type": "execute_result"
    },
    {
     "data": {
      "image/png": "[encoded data removed]",
      "text/plain": [
       "<Figure size 432x288 with 1 Axes>"
      ]
     },
     "metadata": {
      "needs_background": "light"
     },
     "output_type": "display_data"
    }
   ],
   "source": [
    "print(data['count'].describe())#statistical data for the distribution\n",
    "plt.hist(data['count'],100,range = (0,944),label = 'test')#Histogram of the distribution\n",
    "plt.xlabel(\"Amount of images\")\n",
    "plt.ylabel(\"Occurences\")"
   ]
  },
  {
   "cell_type": "code",
   "execution_count": 8,
   "id": "0cce6b60",
   "metadata": {},
   "outputs": [
    {
     "name": "stdout",
     "output_type": "stream",
     "text": [
      "Amount of classes with five and less datapoints: 322\n",
      "Amount of classes with with between five and 10 datapoints: 342\n"
     ]
    },
    {
     "data": {
      "text/plain": [
       "Text(0, 0.5, 'Number of images')"
      ]
     },
     "execution_count": 8,
     "metadata": {},
     "output_type": "execute_result"
    },
    {
     "data": {
      "image/png": "[encoded data removed]",
      "text/plain": [
       "<Figure size 432x288 with 1 Axes>"
      ]
     },
     "metadata": {
      "needs_background": "light"
     },
     "output_type": "display_data"
    }
   ],
   "source": [
    "print(\"Amount of classes with five and less datapoints:\", (data['count'].between(0,5)).sum()) \n",
    "\n",
    "print(\"Amount of classes with with between five and 10 datapoints:\", (data['count'].between(5,10)).sum())\n",
    "\n",
    "n = plt.hist(df[\"landmark_id\"],bins=df[\"landmark_id\"].unique())\n",
    "freq_info = n[0]\n",
    "\n",
    "plt.xlim(0,data['landmark_id'].max())\n",
    "plt.ylim(0,data['count'].max())\n",
    "plt.xlabel('Landmark ID')\n",
    "plt.ylabel('Number of images')"
   ]
  },
  {
   "cell_type": "code",
   "execution_count": 9,
   "id": "fcbeaf66",
   "metadata": {},
   "outputs": [
    {
     "name": "stdout",
     "output_type": "stream",
     "text": [
      "4 sample images from random classes:\n"
     ]
    },
    {
     "ename": "NameError",
     "evalue": "name 'base_path' is not defined",
     "output_type": "error",
     "traceback": [
      "\u001b[1;31m---------------------------------------------------------------------------\u001b[0m",
      "\u001b[1;31mNameError\u001b[0m                                 Traceback (most recent call last)",
      "\u001b[1;32m<ipython-input-9-1716e6912bc6>\u001b[0m in \u001b[0;36m<module>\u001b[1;34m\u001b[0m\n\u001b[0;32m     22\u001b[0m \u001b[0mfig\u001b[0m\u001b[1;33m=\u001b[0m\u001b[0mplt\u001b[0m\u001b[1;33m.\u001b[0m\u001b[0mfigure\u001b[0m\u001b[1;33m(\u001b[0m\u001b[0mfigsize\u001b[0m\u001b[1;33m=\u001b[0m\u001b[1;33m(\u001b[0m\u001b[1;36m16\u001b[0m\u001b[1;33m,\u001b[0m \u001b[1;36m16\u001b[0m\u001b[1;33m)\u001b[0m\u001b[1;33m)\u001b[0m\u001b[1;33m\u001b[0m\u001b[1;33m\u001b[0m\u001b[0m\n\u001b[0;32m     23\u001b[0m \u001b[1;32mfor\u001b[0m \u001b[0mi\u001b[0m \u001b[1;32min\u001b[0m \u001b[0mrange\u001b[0m\u001b[1;33m(\u001b[0m\u001b[1;36m1\u001b[0m\u001b[1;33m,\u001b[0m\u001b[1;36m5\u001b[0m\u001b[1;33m)\u001b[0m\u001b[1;33m:\u001b[0m\u001b[1;33m\u001b[0m\u001b[1;33m\u001b[0m\u001b[0m\n\u001b[1;32m---> 24\u001b[1;33m     \u001b[0ma\u001b[0m \u001b[1;33m=\u001b[0m \u001b[0mrandom\u001b[0m\u001b[1;33m.\u001b[0m\u001b[0mchoices\u001b[0m\u001b[1;33m(\u001b[0m\u001b[0mos\u001b[0m\u001b[1;33m.\u001b[0m\u001b[0mlistdir\u001b[0m\u001b[1;33m(\u001b[0m\u001b[0mbase_path\u001b[0m\u001b[1;33m)\u001b[0m\u001b[1;33m,\u001b[0m \u001b[0mk\u001b[0m\u001b[1;33m=\u001b[0m\u001b[1;36m3\u001b[0m\u001b[1;33m)\u001b[0m\u001b[1;33m\u001b[0m\u001b[1;33m\u001b[0m\u001b[0m\n\u001b[0m\u001b[0;32m     25\u001b[0m     \u001b[0mfolder\u001b[0m \u001b[1;33m=\u001b[0m \u001b[0mbase_path\u001b[0m\u001b[1;33m+\u001b[0m\u001b[1;34m'/'\u001b[0m\u001b[1;33m+\u001b[0m\u001b[0ma\u001b[0m\u001b[1;33m[\u001b[0m\u001b[1;36m0\u001b[0m\u001b[1;33m]\u001b[0m\u001b[1;33m+\u001b[0m\u001b[1;34m'/'\u001b[0m\u001b[1;33m+\u001b[0m\u001b[0ma\u001b[0m\u001b[1;33m[\u001b[0m\u001b[1;36m1\u001b[0m\u001b[1;33m]\u001b[0m\u001b[1;33m+\u001b[0m\u001b[1;34m'/'\u001b[0m\u001b[1;33m+\u001b[0m\u001b[0ma\u001b[0m\u001b[1;33m[\u001b[0m\u001b[1;36m2\u001b[0m\u001b[1;33m]\u001b[0m\u001b[1;33m\u001b[0m\u001b[1;33m\u001b[0m\u001b[0m\n\u001b[0;32m     26\u001b[0m     \u001b[0mrandom_img\u001b[0m \u001b[1;33m=\u001b[0m \u001b[0mrandom\u001b[0m\u001b[1;33m.\u001b[0m\u001b[0mchoice\u001b[0m\u001b[1;33m(\u001b[0m\u001b[0mos\u001b[0m\u001b[1;33m.\u001b[0m\u001b[0mlistdir\u001b[0m\u001b[1;33m(\u001b[0m\u001b[0mfolder\u001b[0m\u001b[1;33m)\u001b[0m\u001b[1;33m)\u001b[0m\u001b[1;33m\u001b[0m\u001b[1;33m\u001b[0m\u001b[0m\n",
      "\u001b[1;31mNameError\u001b[0m: name 'base_path' is not defined"
     ]
    },
    {
     "data": {
      "text/plain": [
       "<Figure size 1152x1152 with 0 Axes>"
      ]
     },
     "metadata": {},
     "output_type": "display_data"
    }
   ],
   "source": [
    "from sklearn.preprocessing import LabelEncoder\n",
    "lencoder = LabelEncoder()\n",
    "lencoder.fit(df[\"landmark_id\"])\n",
    "\n",
    "def encode_label(lbl):\n",
    "    return lencoder.transform(lbl)\n",
    "    \n",
    "def decode_label(lbl):\n",
    "    return lencoder.inverse_transform(lbl)\n",
    "    \n",
    "def get_image_from_number(num):\n",
    "    fname, label = df.loc[num,:]\n",
    "    fname = fname + \".jpg\"\n",
    "    f1 = fname[0]\n",
    "    f2 = fname[1]\n",
    "    f3 = fname[2]\n",
    "    path = os.path.join(f1,f2,f3,fname)\n",
    "    im = cv2.imread(os.path.join(base_path,path))\n",
    "    return im, label\n",
    "\n",
    "print(\"4 sample images from random classes:\")\n",
    "fig=plt.figure(figsize=(16, 16))\n",
    "for i in range(1,5):\n",
    "    a = random.choices(os.listdir(base_path), k=3)\n",
    "    folder = base_path+'/'+a[0]+'/'+a[1]+'/'+a[2]\n",
    "    random_img = random.choice(os.listdir(folder))\n",
    "    img = np.array(Image.open(folder+'/'+random_img))\n",
    "    fig.add_subplot(1, 4, i)\n",
    "    plt.imshow(img)\n",
    "    plt.axis('off')\n",
    "\n",
    "plt.show()"
   ]
  },
  {
   "cell_type": "code",
   "execution_count": 10,
   "id": "8f50c2d7",
   "metadata": {},
   "outputs": [
    {
     "ename": "ImportError",
     "evalue": "cannot import name 'VGG19' from 'keras.applications' (C:\\Users\\12104\\anaconda3\\lib\\site-packages\\keras\\applications\\__init__.py)",
     "output_type": "error",
     "traceback": [
      "\u001b[1;31m---------------------------------------------------------------------------\u001b[0m",
      "\u001b[1;31mImportError\u001b[0m                               Traceback (most recent call last)",
      "\u001b[1;32m<ipython-input-10-71c7c727bc80>\u001b[0m in \u001b[0;36m<module>\u001b[1;34m\u001b[0m\n\u001b[1;32m----> 1\u001b[1;33m \u001b[1;32mfrom\u001b[0m \u001b[0mkeras\u001b[0m\u001b[1;33m.\u001b[0m\u001b[0mapplications\u001b[0m \u001b[1;32mimport\u001b[0m \u001b[0mVGG19\u001b[0m\u001b[1;33m\u001b[0m\u001b[1;33m\u001b[0m\u001b[0m\n\u001b[0m\u001b[0;32m      2\u001b[0m \u001b[1;32mfrom\u001b[0m \u001b[0mkeras\u001b[0m\u001b[1;33m.\u001b[0m\u001b[0mlayers\u001b[0m \u001b[1;32mimport\u001b[0m \u001b[1;33m*\u001b[0m\u001b[1;33m\u001b[0m\u001b[1;33m\u001b[0m\u001b[0m\n\u001b[0;32m      3\u001b[0m \u001b[1;32mfrom\u001b[0m \u001b[0mkeras\u001b[0m \u001b[1;32mimport\u001b[0m \u001b[0mSequential\u001b[0m\u001b[1;33m\u001b[0m\u001b[1;33m\u001b[0m\u001b[0m\n\u001b[0;32m      4\u001b[0m \u001b[1;33m\u001b[0m\u001b[0m\n\u001b[0;32m      5\u001b[0m \u001b[1;31m### Parameters\u001b[0m\u001b[1;33m\u001b[0m\u001b[1;33m\u001b[0m\u001b[1;33m\u001b[0m\u001b[0m\n",
      "\u001b[1;31mImportError\u001b[0m: cannot import name 'VGG19' from 'keras.applications' (C:\\Users\\12104\\anaconda3\\lib\\site-packages\\keras\\applications\\__init__.py)"
     ]
    }
   ],
   "source": [
    "from keras.applications import VGG19\n",
    "from keras.layers import *\n",
    "from keras import Sequential\n",
    "\n",
    "### Parameters\n",
    "# learning_rate   = 0.0001\n",
    "# decay_speed     = 1e-6\n",
    "# momentum        = 0.09\n",
    "\n",
    "# loss_function   = \"sparse_categorical_crossentropy\"\n",
    "source_model = VGG19(weights=None)\n",
    "#new_layer = Dense(num_classes, activation=activations.softmax, name='prediction')\n",
    "drop_layer = Dropout(0.5)\n",
    "drop_layer2 = Dropout(0.5)\n",
    "\n",
    "\n",
    "model = Sequential()\n",
    "for layer in source_model.layers[:-1]: # go through until last layer\n",
    "    if layer == source_model.layers[-25]:\n",
    "        model.add(BatchNormalization())\n",
    "    model.add(layer)\n",
    "#     if layer == source_model.layers[-3]:\n",
    "#         model.add(drop_layer)\n",
    "# model.add(drop_layer2)\n",
    "model.add(Dense(num_classes, activation=\"softmax\"))\n",
    "model.summary()\n",
    "\n",
    "\n",
    "opt1 = keras.optimizers.RMSprop(learning_rate = 0.0001, momentum = 0.09)\n",
    "opt2 = keras.optimizers.Adam(learning_rate=0.001, beta_1=0.9, beta_2=0.999, epsilon=1e-07)\n",
    "model.compile(optimizer=opt1,\n",
    "             loss=\"sparse_categorical_crossentropy\",\n",
    "             metrics=[\"accuracy\"])\n",
    "\n",
    "#sgd = SGD(lr=learning_rate, decay=decay_speed, momentum=momentum, nesterov=True)\n",
    "# rms = keras.optimizers.RMSprop(lr=learning_rate, momentum=momentum)\n",
    "# model.compile(optimizer=rms,\n",
    "#               loss=loss_function,\n",
    "#               metrics=[\"accuracy\"])\n",
    "# print(\"Model compiled! \\n\")"
   ]
  },
  {
   "cell_type": "code",
   "execution_count": 11,
   "id": "4b94499e",
   "metadata": {},
   "outputs": [
    {
     "name": "stdout",
     "output_type": "stream",
     "text": [
      "Training on: 16000 samples\n",
      "Validation on: 4001 samples\n",
      "Epoch:  1/15\n"
     ]
    },
    {
     "ename": "NameError",
     "evalue": "name 'base_path' is not defined",
     "output_type": "error",
     "traceback": [
      "\u001b[1;31m---------------------------------------------------------------------------\u001b[0m",
      "\u001b[1;31mNameError\u001b[0m                                 Traceback (most recent call last)",
      "\u001b[1;32m<ipython-input-11-a58c04774dd5>\u001b[0m in \u001b[0;36m<module>\u001b[1;34m\u001b[0m\n\u001b[0;32m     46\u001b[0m     \u001b[1;32mfor\u001b[0m \u001b[0mit\u001b[0m \u001b[1;32min\u001b[0m \u001b[0mrange\u001b[0m\u001b[1;33m(\u001b[0m\u001b[0mint\u001b[0m\u001b[1;33m(\u001b[0m\u001b[0mnp\u001b[0m\u001b[1;33m.\u001b[0m\u001b[0mceil\u001b[0m\u001b[1;33m(\u001b[0m\u001b[0mlen\u001b[0m\u001b[1;33m(\u001b[0m\u001b[0mtrain\u001b[0m\u001b[1;33m)\u001b[0m\u001b[1;33m/\u001b[0m\u001b[0mbatch_size\u001b[0m\u001b[1;33m)\u001b[0m\u001b[1;33m)\u001b[0m\u001b[1;33m)\u001b[0m\u001b[1;33m:\u001b[0m\u001b[1;33m\u001b[0m\u001b[1;33m\u001b[0m\u001b[0m\n\u001b[0;32m     47\u001b[0m \u001b[1;33m\u001b[0m\u001b[0m\n\u001b[1;32m---> 48\u001b[1;33m         \u001b[0mX_train\u001b[0m\u001b[1;33m,\u001b[0m \u001b[0my_train\u001b[0m \u001b[1;33m=\u001b[0m \u001b[0mget_batch\u001b[0m\u001b[1;33m(\u001b[0m\u001b[0mtrain\u001b[0m\u001b[1;33m,\u001b[0m \u001b[0mit\u001b[0m\u001b[1;33m*\u001b[0m\u001b[0mbatch_size\u001b[0m\u001b[1;33m,\u001b[0m \u001b[0mbatch_size\u001b[0m\u001b[1;33m)\u001b[0m\u001b[1;33m\u001b[0m\u001b[1;33m\u001b[0m\u001b[0m\n\u001b[0m\u001b[0;32m     49\u001b[0m \u001b[1;33m\u001b[0m\u001b[0m\n\u001b[0;32m     50\u001b[0m         \u001b[0mmodel\u001b[0m\u001b[1;33m.\u001b[0m\u001b[0mtrain_on_batch\u001b[0m\u001b[1;33m(\u001b[0m\u001b[0mX_train\u001b[0m\u001b[1;33m,\u001b[0m \u001b[0my_train\u001b[0m\u001b[1;33m)\u001b[0m\u001b[1;33m\u001b[0m\u001b[1;33m\u001b[0m\u001b[0m\n",
      "\u001b[1;32m<ipython-input-11-a58c04774dd5>\u001b[0m in \u001b[0;36mget_batch\u001b[1;34m(dataframe, start, batch_size)\u001b[0m\n\u001b[0;32m     22\u001b[0m     \u001b[1;32mfor\u001b[0m \u001b[0midx\u001b[0m \u001b[1;32min\u001b[0m \u001b[0mrange\u001b[0m\u001b[1;33m(\u001b[0m\u001b[0mstart\u001b[0m\u001b[1;33m,\u001b[0m \u001b[0mend_img\u001b[0m\u001b[1;33m)\u001b[0m\u001b[1;33m:\u001b[0m\u001b[1;33m\u001b[0m\u001b[1;33m\u001b[0m\u001b[0m\n\u001b[0;32m     23\u001b[0m         \u001b[0mn\u001b[0m \u001b[1;33m=\u001b[0m \u001b[0midx\u001b[0m\u001b[1;33m\u001b[0m\u001b[1;33m\u001b[0m\u001b[0m\n\u001b[1;32m---> 24\u001b[1;33m         \u001b[0mim\u001b[0m\u001b[1;33m,\u001b[0m \u001b[0mlabel\u001b[0m \u001b[1;33m=\u001b[0m \u001b[0mget_image_from_number\u001b[0m\u001b[1;33m(\u001b[0m\u001b[0mn\u001b[0m\u001b[1;33m,\u001b[0m \u001b[0mdataframe\u001b[0m\u001b[1;33m)\u001b[0m\u001b[1;33m\u001b[0m\u001b[1;33m\u001b[0m\u001b[0m\n\u001b[0m\u001b[0;32m     25\u001b[0m         \u001b[0mim\u001b[0m \u001b[1;33m=\u001b[0m \u001b[0mimage_reshape\u001b[0m\u001b[1;33m(\u001b[0m\u001b[0mim\u001b[0m\u001b[1;33m,\u001b[0m \u001b[1;33m(\u001b[0m\u001b[1;36m224\u001b[0m\u001b[1;33m,\u001b[0m \u001b[1;36m224\u001b[0m\u001b[1;33m)\u001b[0m\u001b[1;33m)\u001b[0m \u001b[1;33m/\u001b[0m \u001b[1;36m255.0\u001b[0m\u001b[1;33m\u001b[0m\u001b[1;33m\u001b[0m\u001b[0m\n\u001b[0;32m     26\u001b[0m         \u001b[0mimage_array\u001b[0m\u001b[1;33m.\u001b[0m\u001b[0mappend\u001b[0m\u001b[1;33m(\u001b[0m\u001b[0mim\u001b[0m\u001b[1;33m)\u001b[0m\u001b[1;33m\u001b[0m\u001b[1;33m\u001b[0m\u001b[0m\n",
      "\u001b[1;32m<ipython-input-11-a58c04774dd5>\u001b[0m in \u001b[0;36mget_image_from_number\u001b[1;34m(num, df)\u001b[0m\n\u001b[0;32m      6\u001b[0m     \u001b[0mf3\u001b[0m \u001b[1;33m=\u001b[0m \u001b[0mfname\u001b[0m\u001b[1;33m[\u001b[0m\u001b[1;36m2\u001b[0m\u001b[1;33m]\u001b[0m\u001b[1;33m\u001b[0m\u001b[1;33m\u001b[0m\u001b[0m\n\u001b[0;32m      7\u001b[0m     \u001b[0mpath\u001b[0m \u001b[1;33m=\u001b[0m \u001b[0mos\u001b[0m\u001b[1;33m.\u001b[0m\u001b[0mpath\u001b[0m\u001b[1;33m.\u001b[0m\u001b[0mjoin\u001b[0m\u001b[1;33m(\u001b[0m\u001b[0mf1\u001b[0m\u001b[1;33m,\u001b[0m\u001b[0mf2\u001b[0m\u001b[1;33m,\u001b[0m\u001b[0mf3\u001b[0m\u001b[1;33m,\u001b[0m\u001b[0mfname\u001b[0m\u001b[1;33m)\u001b[0m\u001b[1;33m\u001b[0m\u001b[1;33m\u001b[0m\u001b[0m\n\u001b[1;32m----> 8\u001b[1;33m     \u001b[0mim\u001b[0m \u001b[1;33m=\u001b[0m \u001b[0mcv2\u001b[0m\u001b[1;33m.\u001b[0m\u001b[0mimread\u001b[0m\u001b[1;33m(\u001b[0m\u001b[0mos\u001b[0m\u001b[1;33m.\u001b[0m\u001b[0mpath\u001b[0m\u001b[1;33m.\u001b[0m\u001b[0mjoin\u001b[0m\u001b[1;33m(\u001b[0m\u001b[0mbase_path\u001b[0m\u001b[1;33m,\u001b[0m\u001b[0mpath\u001b[0m\u001b[1;33m)\u001b[0m\u001b[1;33m)\u001b[0m\u001b[1;33m\u001b[0m\u001b[1;33m\u001b[0m\u001b[0m\n\u001b[0m\u001b[0;32m      9\u001b[0m     \u001b[1;32mreturn\u001b[0m \u001b[0mim\u001b[0m\u001b[1;33m,\u001b[0m \u001b[0mlabel\u001b[0m\u001b[1;33m\u001b[0m\u001b[1;33m\u001b[0m\u001b[0m\n\u001b[0;32m     10\u001b[0m \u001b[1;33m\u001b[0m\u001b[0m\n",
      "\u001b[1;31mNameError\u001b[0m: name 'base_path' is not defined"
     ]
    }
   ],
   "source": [
    "def get_image_from_number(num, df):\n",
    "    fname, label = df.iloc[num,:]\n",
    "    fname = fname + \".jpg\"\n",
    "    f1 = fname[0]\n",
    "    f2 = fname[1]\n",
    "    f3 = fname[2]\n",
    "    path = os.path.join(f1,f2,f3,fname)\n",
    "    im = cv2.imread(os.path.join(base_path,path))\n",
    "    return im, label\n",
    "\n",
    "def image_reshape(im, target_size):\n",
    "    return cv2.resize(im, target_size)\n",
    "    \n",
    "def get_batch(dataframe,start, batch_size):\n",
    "    image_array = []\n",
    "    label_array = []\n",
    "    \n",
    "    end_img = start+batch_size\n",
    "    if end_img > len(dataframe):\n",
    "        end_img = len(dataframe)\n",
    "\n",
    "    for idx in range(start, end_img):\n",
    "        n = idx\n",
    "        im, label = get_image_from_number(n, dataframe)\n",
    "        im = image_reshape(im, (224, 224)) / 255.0\n",
    "        image_array.append(im)\n",
    "        label_array.append(label)\n",
    "        \n",
    "    label_array = encode_label(label_array)\n",
    "    return np.array(image_array), np.array(label_array)\n",
    "batch_size = 16\n",
    "epoch_shuffle = True\n",
    "weight_classes = True\n",
    "epochs = 15\n",
    "\n",
    "# Split train data up into 80% and 20% validation\n",
    "train, validate = np.split(df.sample(frac=1), [int(.8*len(df))])\n",
    "print(\"Training on:\", len(train), \"samples\")\n",
    "print(\"Validation on:\", len(validate), \"samples\")\n",
    "\n",
    "    \n",
    "for e in range(epochs):\n",
    "    print(\"Epoch: \", str(e+1) + \"/\" + str(epochs))\n",
    "    if epoch_shuffle:\n",
    "        train = train.sample(frac = 1)\n",
    "    for it in range(int(np.ceil(len(train)/batch_size))):\n",
    "\n",
    "        X_train, y_train = get_batch(train, it*batch_size, batch_size)\n",
    "\n",
    "        model.train_on_batch(X_train, y_train)\n",
    "        \n",
    "\n",
    "model.save(\"Model.h5\")"
   ]
  },
  {
   "cell_type": "code",
   "execution_count": null,
   "id": "4b1e1622",
   "metadata": {},
   "outputs": [],
   "source": []
  }
 ],
 "metadata": {
  "kernelspec": {
   "display_name": "Python 3",
   "language": "python",
   "name": "python3"
  },
  "language_info": {
   "codemirror_mode": {
    "name": "ipython",
    "version": 3
   },
   "file_extension": ".py",
   "mimetype": "text/x-python",
   "name": "python",
   "nbconvert_exporter": "python",
   "pygments_lexer": "ipython3",
   "version": "3.8.8"
  }
 },
 "nbformat": 4,
 "nbformat_minor": 5
}
